{
 "cells": [
  {
   "cell_type": "markdown",
   "metadata": {},
   "source": [
    "---\n",
    "toc: True\n",
    "comments: True\n",
    "layout: post\n",
    "title: London, United Kingdom\n",
    "type: ccc\n",
    "permalink: traveling/locations/london\n",
    "menu: nav/home.html\n",
    "---"
   ]
  },
  {
   "cell_type": "markdown",
   "metadata": {},
   "source": [
    "![London](../../images/locations/london.png)"
   ]
  },
  {
   "cell_type": "markdown",
   "metadata": {},
   "source": [
    "London, the capital of the United Kingdom, is a historic city that blends the old and the new, with landmarks such as the Tower of London, Buckingham Palace, and the modern Shard skyscraper. Known for its diverse culture, vibrant arts scene, and rich history, London is a major global financial center and a popular tourist destination."
   ]
  }
 ],
 "metadata": {
  "language_info": {
   "name": "python"
  },
  "orig_nbformat": 4
 },
 "nbformat": 4,
 "nbformat_minor": 2
}
