{
 "cells": [
  {
   "cell_type": "markdown",
   "metadata": {},
   "source": [
    "### Methods Team Teach"
   ]
  },
  {
   "cell_type": "markdown",
   "metadata": {},
   "source": [
    "- Control flow\n",
    "    - Conditional statements \n",
    "    - Iterative statements "
   ]
  },
  {
   "cell_type": "code",
   "execution_count": null,
   "metadata": {
    "vscode": {
     "languageId": "javascript"
    }
   },
   "outputs": [],
   "source": [
    "\n",
    "package com.nighthawk.spring_portfolio.hacks.maze;\n",
    "\n",
    "public class MazeSolver {\n",
    "    public static boolean solveMaze(char[][] maze, int startX, int startY) {\n",
    "        // Check if the current position is valid\n",
    "        if (startX < 0 || startY < 0 || startX >= maze.length || startY >= maze[0].length || maze[startX][startY] == '#') {\n",
    "            return false; // Out of bounds or wall\n",
    "        }\n",
    "\n",
    "        // Check if the current position is the exit\n",
    "        if (maze[startX][startY] == 'E') {\n",
    "            return true; // Exit found\n",
    "        }\n",
    "\n",
    "        // Mark the current cell as visited\n",
    "        maze[startX][startY] = '#';\n",
    "\n",
    "        // Explore all possible directions (up, down, left, right)\n",
    "        boolean foundPath = solveMaze(maze, startX - 1, startY) ||  // Move up\n",
    "                            solveMaze(maze, startX + 1, startY) ||  // Move down\n",
    "                            solveMaze(maze, startX, startY - 1) ||  // Move left\n",
    "                            solveMaze(maze, startX, startY + 1);    // Move right\n",
    "\n",
    "        // Restore the cell for backtracking\n",
    "        maze[startX][startY] = ' ';\n",
    "\n",
    "        return foundPath; // Return whether a path to 'E' exists\n",
    "    }\n",
    "\n",
    "    public static void main(String[] args) {\n",
    "        char[][] maze = {\n",
    "            {'#', '#', '#', '#', '#'},\n",
    "            {'#', ' ', ' ', '#', 'E'},\n",
    "            {'#', ' ', '#', ' ', '#'},\n",
    "            {'#', ' ', ' ', ' ', '#'},\n",
    "            {'#', '#', '#', '#', '#'}\n",
    "        };\n",
    "        \n",
    "        System.out.println(solveMaze(maze, 1, 4)); // Output: true\n",
    "    }\n",
    "}\n"
   ]
  }
 ],
 "metadata": {
  "kernelspec": {
   "display_name": "Python 3 (ipykernel)",
   "language": "python",
   "name": "python3"
  },
  "language_info": {
   "codemirror_mode": {
    "name": "ipython",
    "version": 3
   },
   "file_extension": ".py",
   "mimetype": "text/x-python",
   "name": "python",
   "nbconvert_exporter": "python",
   "pygments_lexer": "ipython3",
   "version": "3.11.9"
  }
 },
 "nbformat": 4,
 "nbformat_minor": 4
}
