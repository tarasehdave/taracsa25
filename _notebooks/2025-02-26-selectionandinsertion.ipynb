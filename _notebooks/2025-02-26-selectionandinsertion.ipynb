{
 "cells": [
  {
   "cell_type": "markdown",
   "metadata": {},
   "source": [
    "### Selection and Insertion Homework"
   ]
  },
  {
   "cell_type": "markdown",
   "metadata": {},
   "source": [
    "### Objective:\n",
    "Insertion Sort: Sort an array in ascending order using the Insertion Sort algorithm.\n",
    "Selection Sort: Sort an array in ascending order using the Selection Sort algorithm.\n",
    "import java.util.Arrays;"
   ]
  },
  {
   "cell_type": "code",
   "execution_count": null,
   "metadata": {
    "vscode": {
     "languageId": "java"
    }
   },
   "outputs": [],
   "source": [
    "import java.util.Arrays;\n",
    "\n",
    "// Test Array\n",
    "int[] supplies = {29, 10, 14, 37, 13, 18, 25, 30, 4, 9, 12, 40, 50, 23, 28};\n",
    "\n",
    "// Insertion Sort\n",
    "public static void insertionSort(int[] arr) {\n",
    "    // TODO: Implement Insertion Sort\n",
    "    // Sort the array using insertion sort algorithm\n",
    "    System.out.println(\"Insertion Sort: \" + results);\n",
    "}\n",
    "\n",
    "// Selection Sort\n",
    "public static void selectionSort(int[] arr) {\n",
    "    // TODO: Implement Selection Sort\n",
    "    // Sort the array using selection sort algorithm\n",
    "    System.out.println(\"Selection Sort: \" + results);\n",
    "}\n",
    "\n",
    "insertionSort(supplies);\n",
    "selectionSort(supplies);"
   ]
  },
  {
   "cell_type": "markdown",
   "metadata": {},
   "source": [
    "#### Insertion "
   ]
  },
  {
   "cell_type": "code",
   "execution_count": null,
   "metadata": {
    "vscode": {
     "languageId": "java"
    }
   },
   "outputs": [],
   "source": [
    "import java.util.Arrays;\n",
    "\n",
    "public class Sorting {\n",
    "    public static void insertionSort(int[] arr) {\n",
    "        int n = arr.length;\n",
    "        for (int i = 1; i < n; i++) {\n",
    "            int key = arr[i];\n",
    "            int j = i - 1;\n",
    "            while (j >= 0 && arr[j] > key) {\n",
    "                arr[j + 1] = arr[j];\n",
    "                j--;\n",
    "            }\n",
    "            arr[j + 1] = key;\n",
    "        }\n",
    "        System.out.println(\"Insertion Sort: \" + Arrays.toString(arr));\n",
    "    }\n",
    "\n",
    "    public static void main(String[] args) {\n",
    "        int[] supplies = {29, 10, 14, 37, 13, 18, 25, 30, 4, 9, 12, 40, 50, 23, 28};\n",
    "        insertionSort(supplies.clone());  // Use clone to keep the original array unchanged\n",
    "    }\n",
    "}\n"
   ]
  },
  {
   "cell_type": "markdown",
   "metadata": {},
   "source": [
    "#### Selection"
   ]
  },
  {
   "cell_type": "code",
   "execution_count": null,
   "metadata": {
    "vscode": {
     "languageId": "java"
    }
   },
   "outputs": [],
   "source": [
    "import java.util.Arrays;\n",
    "\n",
    "public class Sorting {\n",
    "    public static void selectionSort(int[] arr) {\n",
    "        int n = arr.length;\n",
    "        for (int i = 0; i < n - 1; i++) {\n",
    "            int minIndex = i;\n",
    "            for (int j = i + 1; j < n; j++) {\n",
    "                if (arr[j] < arr[minIndex]) {\n",
    "                    minIndex = j;\n",
    "                }\n",
    "            }\n",
    "            int temp = arr[minIndex];\n",
    "            arr[minIndex] = arr[i];\n",
    "            arr[i] = temp;\n",
    "        }\n",
    "        System.out.println(\"Selection Sort: \" + Arrays.toString(arr));\n",
    "    }\n",
    "\n",
    "    public static void main(String[] args) {\n",
    "        int[] supplies = {29, 10, 14, 37, 13, 18, 25, 30, 4, 9, 12, 40, 50, 23, 28};\n",
    "        selectionSort(supplies.clone());  // Use clone to keep the original array unchanged\n",
    "    }\n",
    "}\n"
   ]
  }
 ],
 "metadata": {
  "kernelspec": {
   "display_name": "Python 3 (ipykernel)",
   "language": "python",
   "name": "python3"
  },
  "language_info": {
   "codemirror_mode": {
    "name": "ipython",
    "version": 3
   },
   "file_extension": ".py",
   "mimetype": "text/x-python",
   "name": "python",
   "nbconvert_exporter": "python",
   "pygments_lexer": "ipython3",
   "version": "3.11.9"
  }
 },
 "nbformat": 4,
 "nbformat_minor": 4
}
