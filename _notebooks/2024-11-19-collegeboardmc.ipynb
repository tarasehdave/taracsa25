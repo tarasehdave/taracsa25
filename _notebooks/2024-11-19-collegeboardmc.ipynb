{
 "cells": [
  {
   "cell_type": "markdown",
   "metadata": {},
   "source": [
    "# College Board MC Review "
   ]
  },
  {
   "cell_type": "markdown",
   "metadata": {},
   "source": [
    "## Topics frequently missed \n",
    "- Array\n",
    "- while Loops\n",
    "- String Methods"
   ]
  },
  {
   "cell_type": "markdown",
   "metadata": {},
   "source": [
    "## Reviewing Missed Questions"
   ]
  },
  {
   "cell_type": "markdown",
   "metadata": {},
   "source": [
    "### 5. Consider the following method.\n",
    "\n",
    "![image](https://github.com/user-attachments/assets/6db9ec2e-05fd-4c14-8a99-609bb0793c98)\n",
    "\n",
    "\n",
    "Which of the following is printed as a result of executing the following statement? System.out.println(mystery(6));\n",
    "\n",
    "- A [3, 4, 7, 12, 19, 28] \n",
    "\n",
    "- B [3, 4, 7, 12, 19, 28, 39] (My answer)\n",
    "\n",
    "- C [4, 7, 12, 19, 28, 39] (Correct answer)\n",
    "\n",
    "- D [39, 28, 19, 12, 7, 4]\n",
    "\n",
    "- E [39, 28, 19, 12, 7, 4, 3]\n",
    "\n",
    "Explanation: Simple arraylist that is made by going through k, ranging from 1 to 6. It plugs k into k * k + 3 function, resulting in [4, 7, 12, 19, 28, 39]\n"
   ]
  },
  {
   "cell_type": "markdown",
   "metadata": {},
   "source": [
    "### 20. Consider the following method.\n",
    "\n",
    "![image](https://github.com/user-attachments/assets/5457dbc1-993f-4ca3-b24c-050155cc0bd1)\n",
    "\n",
    "Which of the following describes what the method arrayMethod() does to the array nums?\n",
    "\n",
    "- A The array nums is unchanged.\n",
    "\n",
    "- B The first value in nums is copied to every location in the array.\n",
    "\n",
    "- C The last value in nums is copied to every location in the array.\n",
    "\n",
    "- D The method generates an ArrayIndexOutOfBoundsException. (My answer)\n",
    "\n",
    "- E The contents of the array nums are reversed. (Correct answer)\n",
    "\n",
    "Explanation: I was not familiar with some of the code apparent in this question. For example, I did not know that nums[j] = nums[k] means to swap the two elements. Additionally, j++ and k-- indicate that the code is traversing through the elements of the array in such an order that the outcome is reversed. "
   ]
  },
  {
   "cell_type": "markdown",
   "metadata": {},
   "source": [
    "### 30. Consider the following method. \n",
    "![image](https://github.com/user-attachments/assets/0ad4c3ae-6590-4d93-bd86-45fbc5fe891f)\n",
    "What value is returned as a result of the call scramble(\"compiler\", 3)?\n",
    "\n",
    "- A \"compiler\"\n",
    "\n",
    "- B \"pilercom\"\n",
    "\n",
    "- C \"ilercom\" (Correct answer)\n",
    "\n",
    "- D \"ilercomp\" (My answer)\n",
    "\n",
    "- E No value is returned because an IndexOutOfBoundsException will be thrown.\n",
    "\n",
    "Explanation: In this problem I was not aware that (compiler, 3) meant that howFar is equal to 3. After learning that, it was easy for me to understand. For this line of the code, return word.substring (howFar + 1, word. length ()) +\n",
    "word. substring (0, howFar); the first part starts from one value above howFar (so 4) and goes to the end of the word. This equals \"iler\". Then, for the second part of the word, it starts from the beginning and goes to the third letter. This equals \"com\". All together this word is ilercom."
   ]
  }
 ],
 "metadata": {
  "kernelspec": {
   "display_name": "Python 3 (ipykernel)",
   "language": "python",
   "name": "python3"
  },
  "language_info": {
   "codemirror_mode": {
    "name": "ipython",
    "version": 3
   },
   "file_extension": ".py",
   "mimetype": "text/x-python",
   "name": "python",
   "nbconvert_exporter": "python",
   "pygments_lexer": "ipython3",
   "version": "3.12.5"
  }
 },
 "nbformat": 4,
 "nbformat_minor": 4
}
