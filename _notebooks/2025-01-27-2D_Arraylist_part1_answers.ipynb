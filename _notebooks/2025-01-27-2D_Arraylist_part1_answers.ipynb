{
 "cells": [
  {
   "cell_type": "markdown",
   "metadata": {},
   "source": [
    "### 2d Arraylist Part 1 Homework"
   ]
  },
  {
   "cell_type": "markdown",
   "metadata": {},
   "source": [
    "Answer (b) write static method isLatin to check if a 2D integer square array is Latin."
   ]
  },
  {
   "cell_type": "code",
   "execution_count": null,
   "metadata": {
    "vscode": {
     "languageId": "java"
    }
   },
   "outputs": [],
   "source": [
    "public class ArrayTester {\n",
    "\n",
    "    public static boolean isLatin(int[][] square) {\n",
    "        int n = square.length;\n",
    "\n",
    "        // Check if the first row has no duplicate values\n",
    "        if (containsDuplicates(square[0])) {\n",
    "            return false;\n",
    "        }\n",
    "\n",
    "        // Check if every row and column contains the same values as the first row\n",
    "        for (int i = 0; i < n; i++) {\n",
    "            if (!hasAllValues(square[i], square[0]) || !hasAllValues(getColumn(square, i), square[0])) {\n",
    "                return false;\n",
    "            }\n",
    "        }\n",
    "\n",
    "        return true;\n",
    "    }\n",
    "\n",
    "    // Returns true if the 1D array contains duplicate values, false otherwise\n",
    "    private static boolean containsDuplicates(int[] array) {\n",
    "\n",
    "    }\n",
    "\n",
    "    // Returns true if and only if every value in arr1 appears in arr2\n",
    "    private static boolean hasAllValues(int[] arr1, int[] arr2) {\n",
    "\n",
    "    }\n",
    "\n",
    "    // Helper method to get a column from a 2D array\n",
    "    private static int[] getColumn(int[][] arr2D, int c) {\n",
    "        int n = arr2D.length;\n",
    "        int[] column = new int[n];\n",
    "        for (int i = 0; i < n; i++) {\n",
    "            column[i] = arr2D[i][c];\n",
    "        }\n",
    "        return column;\n",
    "    }\n",
    "\n",
    "    public static void main(String[] args) {\n",
    "        int[][] square = {\n",
    "            {1, 2, 3},\n",
    "            {3, 1, 2},\n",
    "            {2, 3, 1}\n",
    "        };\n",
    "\n",
    "        System.out.println(isLatin(square)); // Output: true\n",
    "    }\n",
    "}\n"
   ]
  },
  {
   "cell_type": "markdown",
   "metadata": {},
   "source": [
    "### Popcorn Hack\n",
    "\n",
    "Write code to access the scores: 92, 70, 93 and change the last score to 100\n",
    "\n",
    "In [ ]:"
   ]
  },
  {
   "cell_type": "code",
   "execution_count": null,
   "metadata": {
    "vscode": {
     "languageId": "java"
    }
   },
   "outputs": [],
   "source": [
    "public class Main {\n",
    "\n",
    "    public static void processArray(int[][] scores) {\n",
    "        boolean found92 = false, found70 = false, found93 = false;\n",
    "\n",
    "        System.out.println(\"Locations of found numbers:\");\n",
    "        for (int i = 0; i < scores.length; i++) {\n",
    "            for (int j = 0; j < scores[i].length; j++) {\n",
    "                if (scores[i][j] == 92) {\n",
    "                    found92 = true;\n",
    "                    System.out.println(\"92 found at row \" + i + \", column \" + j);\n",
    "                }\n",
    "                if (scores[i][j] == 70) {\n",
    "                    found70 = true;\n",
    "                    System.out.println(\"70 found at row \" + i + \", column \" + j);\n",
    "                }\n",
    "                if (scores[i][j] == 93) {\n",
    "                    found93 = true;\n",
    "                    System.out.println(\"93 found at row \" + i + \", column \" + j);\n",
    "                }\n",
    "            }\n",
    "        }\n",
    "\n",
    "        // Print found statuses\n",
    "        System.out.println(\"Found 92: \" + found92);\n",
    "        System.out.println(\"Found 70: \" + found70);\n",
    "        System.out.println(\"Found 93: \" + found93);\n",
    "\n",
    "        // Update the last score to 100\n",
    "        int lastRow = scores.length - 1;\n",
    "        int lastCol = scores[lastRow].length - 1;\n",
    "        scores[lastRow][lastCol] = 100;\n",
    "    }\n",
    "\n",
    "    // main program\n",
    "    public static void main(String[] args) {\n",
    "        // 2D array representing the scores\n",
    "        int[][] scores = {\n",
    "            {100, 85, 95, 96},  // Student0\n",
    "            {98, 100, 100, 95}, // Student1\n",
    "            {92, 100, 98, 100}, // Student2\n",
    "            {100, 100, 97, 99}, // Student3\n",
    "            {100, 100, 100, 70},// Student4\n",
    "            {100, 100, 99, 98}, // Student5\n",
    "            {100, 94, 100, 93}  // Student6\n",
    "        };\n",
    "\n",
    "        // Call the method\n",
    "        processArray(scores);\n",
    "\n",
    "        // Print the updated array\n",
    "        System.out.println(\"Updated 2D array:\");\n",
    "        for (int i = 0; i < scores.length; i++) {\n",
    "            for (int j = 0; j < scores[i].length; j++) {\n",
    "                System.out.print(scores[i][j] + \" \");\n",
    "            }\n",
    "            System.out.println();\n",
    "        }\n",
    "    }\n",
    "}\n"
   ]
  },
  {
   "cell_type": "markdown",
   "metadata": {},
   "source": [
    "Output:\n",
    "\n",
    "- Locations of found numbers:\n",
    "- 92 found at row 2, column 0\n",
    "- 70 found at row 4, column 3\n",
    "- 93 found at row 6, column 3\n",
    "- Found 92: true\n",
    "- Found 70: true\n",
    "- Found 93: true\n",
    "- Updated 2D array:\n",
    "- 100 85 95 96 \n",
    "- 98 100 100 95 \n",
    "- 92 100 98 100 \n",
    "- 100 100 97 99 \n",
    "- 100 100 100 70 \n",
    "- 100 100 99 98 \n",
    "- 100 94 100 100 "
   ]
  }
 ],
 "metadata": {
  "kernelspec": {
   "display_name": "Python 3 (ipykernel)",
   "language": "python",
   "name": "python3"
  },
  "language_info": {
   "codemirror_mode": {
    "name": "ipython",
    "version": 3
   },
   "file_extension": ".py",
   "mimetype": "text/x-python",
   "name": "python",
   "nbconvert_exporter": "python",
   "pygments_lexer": "ipython3",
   "version": "3.11.9"
  }
 },
 "nbformat": 4,
 "nbformat_minor": 4
}
