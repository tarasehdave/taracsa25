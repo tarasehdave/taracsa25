{
 "cells": [
  {
   "cell_type": "markdown",
   "metadata": {},
   "source": [
    "## Classes FRQ "
   ]
  },
  {
   "cell_type": "markdown",
   "metadata": {},
   "source": [
    "### Popcorn Hack 1"
   ]
  },
  {
   "cell_type": "code",
   "execution_count": null,
   "metadata": {
    "vscode": {
     "languageId": "java"
    }
   },
   "outputs": [],
   "source": [
    "public class Cat {\n",
    "    private String sound;\n",
    "\n",
    "    public Cat(String noise) {\n",
    "        this.sound = noise;\n",
    "    }\n",
    "}\n"
   ]
  },
  {
   "cell_type": "markdown",
   "metadata": {},
   "source": [
    "### Homework "
   ]
  },
  {
   "cell_type": "code",
   "execution_count": null,
   "metadata": {
    "vscode": {
     "languageId": "java"
    }
   },
   "outputs": [],
   "source": [
    "public interface StudyPractice {\n",
    "    String getProblem();\n",
    "    void nextProblem();\n",
    "}\n",
    "\n",
    "public class MultPractice implements StudyPractice {\n",
    "    private int first;\n",
    "    private int second;\n",
    "    public MultPractice(int first, int second) {\n",
    "        this.first = first;\n",
    "        this.second = second;\n",
    "    }\n",
    "\n",
    "    public String getProblem() {\n",
    "        return first + \" TIMES \" + second;\n",
    "    }\n",
    "\n",
    "    public void nextProblem() {\n",
    "        second++;\n",
    "    }\n",
    "}\n",
    "StudyPractice p1 = new MultPractice(7, 3);\n",
    "System.out.println(p1.getProblem());\n",
    "p1.nextProblem();\n",
    "System.out.println(p1.getProblem());\n",
    "p1.nextProblem();\n",
    "System.out.println(p1.getProblem());\n",
    "p1.nextProblem();\n",
    "System.out.println(p1.getProblem());\n",
    "StudyPractice p2 = new MultPractice(4, 12);\n",
    "p2.nextProblem();\n",
    "System.out.println(p2.getProblem());\n",
    "System.out.println(p2.getProblem());\n",
    "p2.nextProblem();\n",
    "p2.nextProblem();\n",
    "System.out.println(p2.getProblem());\n",
    "p2.nextProblem();\n",
    "System.out.println(p2.getProblem());"
   ]
  }
 ],
 "metadata": {
  "kernelspec": {
   "display_name": "Python 3 (ipykernel)",
   "language": "python",
   "name": "python3"
  },
  "language_info": {
   "codemirror_mode": {
    "name": "ipython",
    "version": 3
   },
   "file_extension": ".py",
   "mimetype": "text/x-python",
   "name": "python",
   "nbconvert_exporter": "python",
   "pygments_lexer": "ipython3",
   "version": "3.11.9"
  }
 },
 "nbformat": 4,
 "nbformat_minor": 4
}
