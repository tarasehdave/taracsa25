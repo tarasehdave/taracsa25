{
 "cells": [
  {
   "cell_type": "markdown",
   "metadata": {},
   "source": [
    "## Recursion HW"
   ]
  },
  {
   "cell_type": "markdown",
   "metadata": {},
   "source": [
    "### Popcorn Hack 1"
   ]
  },
  {
   "cell_type": "code",
   "execution_count": null,
   "metadata": {
    "vscode": {
     "languageId": "java"
    }
   },
   "outputs": [],
   "source": [
    "public static int factorial(int target) {\n",
    "    // Base case: if the target is less than or equal to 2, return 2\n",
    "            if (target <= 2) {\n",
    "                return 2;\n",
    "            }\n",
    "     // Recursive case: multiply target by the factorial of (target - 2)\n",
    "            return target * factorial(target - 2);\n",
    "        }\n",
    "        factorial(7);"
   ]
  },
  {
   "cell_type": "markdown",
   "metadata": {},
   "source": [
    "### Popcorn Hack 2"
   ]
  },
  {
   "cell_type": "code",
   "execution_count": null,
   "metadata": {
    "vscode": {
     "languageId": "java"
    }
   },
   "outputs": [],
   "source": [
    "public static int sumArray(int[] arr, int index) {\n",
    "    if (index == arr.length) {\n",
    "        return 0;\n",
    "    }\n",
    "    return arr[index] + sumArray(arr, index + 1);\n",
    "}\n",
    "sumArray(new int[] {1, 2, 3, 4, 5}, 0);"
   ]
  },
  {
   "cell_type": "markdown",
   "metadata": {},
   "source": [
    "### Popcorn Hack 3"
   ]
  },
  {
   "cell_type": "code",
   "execution_count": null,
   "metadata": {
    "vscode": {
     "languageId": "java"
    }
   },
   "outputs": [],
   "source": [
    "Pro tip: Set max to the first element\n",
    "public class Main {\n",
    "    public static int[] selectionSort(int[] arr, int start) {\n",
    "        if (start >= arr.length - 1) {\n",
    "            return arr; \n",
    "        }\n",
    "        int minIndex = start;\n",
    "        for (int i = start + 1; i < arr.length; i++) {\n",
    "            if (arr[i] < arr[minIndex]) {\n",
    "                minIndex = i;\n",
    "            }\n",
    "        }\n",
    "        int temp = arr[start];\n",
    "        arr[start] = arr[minIndex];\n",
    "        arr[minIndex] = temp;\n",
    "        return selectionSort(arr, start + 1);\n",
    "    }\n",
    "    public static void main(String[] args) {\n",
    "        int[] intArray = {5, 2, 7, 4, 8, 5, 3};\n",
    "        int[] sortedArr = selectionSort(intArray, 0);\n",
    "        for (int i = 0; i < sortedArr.length; i++) {\n",
    "            System.out.print(sortedArr[i] + \" \");\n",
    "        }\n",
    "        System.out.println();\n",
    "    }\n",
    "}"
   ]
  },
  {
   "cell_type": "markdown",
   "metadata": {},
   "source": [
    "### Popcorn Hack 4"
   ]
  },
  {
   "cell_type": "code",
   "execution_count": null,
   "metadata": {
    "vscode": {
     "languageId": "java"
    }
   },
   "outputs": [],
   "source": [
    "public class Main {\n",
    "    public static int[][] sort2DArray(int[][] matrix, int row, int col) {\n",
    "        if (row == matrix.length - 1 && col == matrix[row].length) {\n",
    "            return matrix;\n",
    "        }\n",
    "        int minRow = row;\n",
    "        int minCol = col;\n",
    "        int minValue = matrix[row][col];\n",
    "        for (int i = row; i < matrix.length; i++) {\n",
    "            for (int j = (i == row ? col : 0); j < matrix[i].length; j++) {\n",
    "                if (matrix[i][j] < minValue) {\n",
    "                    minValue = matrix[i][j];\n",
    "                    minRow = i;\n",
    "                    minCol = j;\n",
    "                }\n",
    "            }\n",
    "        }\n",
    "        int temp = matrix[row][col];\n",
    "        matrix[row][col] = matrix[minRow][minCol];\n",
    "        matrix[minRow][minCol] = temp;\n",
    "        if (col == matrix[row].length - 1) {\n",
    "            return sort2DArray(matrix, row + 1, 0);\n",
    "        } else {\n",
    "            return sort2DArray(matrix, row, col + 1);\n",
    "        }\n",
    "    }\n",
    "    public static void main(String[] args) {\n",
    "        int[][] matrix = {\n",
    "            {5, 2, 7},\n",
    "            {4, 8, 5},\n",
    "            {3, 1, 6}\n",
    "        };\n",
    "        int[][] sortedMatrix = sort2DArray(matrix, 0, 0);\n",
    "        for (int i = 0; i < sortedMatrix.length; i++) {\n",
    "            for (int j = 0; j < sortedMatrix[i].length; j++) {\n",
    "                System.out.print(sortedMatrix[i][j] + \" \");\n",
    "            }\n",
    "            System.out.println();\n",
    "        }\n",
    "    }\n",
    "}"
   ]
  },
  {
   "cell_type": "markdown",
   "metadata": {},
   "source": [
    "### Homework"
   ]
  },
  {
   "cell_type": "code",
   "execution_count": null,
   "metadata": {
    "vscode": {
     "languageId": "java"
    }
   },
   "outputs": [],
   "source": [
    "public class Student {\n",
    "    String name;\n",
    "    int efficiency, collab, iq;\n",
    "    int performanceScore;\n",
    "    public Student (String name, int efficiency, int collab, int iq) {\n",
    "        this.name = name;\n",
    "        this.efficiency = efficiency;\n",
    "        this.collab = collab;\n",
    "        this.iq = iq;\n",
    "        this.performanceScore = calculatePerformanceScore();\n",
    "    }\n",
    "    public int calculatePerformanceScore() {\n",
    "        return (collab * 2) + (iq * 3) + efficiency;\n",
    "    }\n",
    "}\n",
    "public static Student[] sortStudents(Student[] arr, int index) {\n",
    "    if (index == arr.length) {\n",
    "        return arr;\n",
    "    }\n",
    "    int maxIndex = 0;\n",
    "    int maxVal = arr[index].performanceScore;\n",
    "    for (int i=index; i < arr.length; i++) {\n",
    "        if (arr[i].performanceScore <= maxVal) {\n",
    "            maxIndex = i;\n",
    "            maxVal = arr[i].performanceScore;\n",
    "        }\n",
    "    }\n",
    "    Student tmp = arr[index];\n",
    "    arr[index] = arr[maxIndex];\n",
    "    arr[maxIndex] = tmp;\n",
    "    return sortStudents(arr, index+1);\n",
    "}\n",
    "Student[] students = new Student[] {\n",
    "    new Student(\"srijus\", 98, 95, 92),\n",
    "    new Student(\"aadit\", 95, 97, 97),\n",
    "    new Student(\"erox\", 90, 93, 89),\n",
    "    new Student(\"shubs\", 92, 94, 90),\n",
    "    new Student(\"aashray\", 50, 53, 59),\n",
    "};\n",
    "Student[] sortedStudents = sortStudents(students, 0);\n",
    "for (int i = 0; i < sortedStudents.length; i++) {\n",
    "    System.out.println(sortedStudents[i].name + \" \" + sortedStudents[i].performanceScore);\n",
    "}"
   ]
  }
 ],
 "metadata": {
  "kernelspec": {
   "display_name": "Python 3 (ipykernel)",
   "language": "python",
   "name": "python3"
  },
  "language_info": {
   "codemirror_mode": {
    "name": "ipython",
    "version": 3
   },
   "file_extension": ".py",
   "mimetype": "text/x-python",
   "name": "python",
   "nbconvert_exporter": "python",
   "pygments_lexer": "ipython3",
   "version": "3.11.9"
  }
 },
 "nbformat": 4,
 "nbformat_minor": 4
}
