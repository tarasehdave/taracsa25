{
 "cells": [
  {
   "cell_type": "markdown",
   "metadata": {},
   "source": [
    "### JQuery/Thymeleaf Homework"
   ]
  },
  {
   "cell_type": "markdown",
   "metadata": {},
   "source": [
    "# Question 1: jQuery - Dynamic Content Update\n",
    "Objective: Use jQuery to dynamically update a p element with user input from an input field when a button is clicked.\n",
    "\n",
    "# Question 2: Thymeleaf - Displaying a List of Items Objective: Use Thymeleaf to display a list of students stored in a backend Java controller. Info you may need: - student.getStatus(): Returns True if the student passed, returns False if the student failed - student.getName(): Returns student name - student.getGrade(): Returns student grade\n"
   ]
  },
  {
   "cell_type": "markdown",
   "metadata": {},
   "source": [
    "### Question 1"
   ]
  },
  {
   "cell_type": "code",
   "execution_count": null,
   "metadata": {
    "vscode": {
     "languageId": "java"
    }
   },
   "outputs": [],
   "source": [
    "<!DOCTYPE html>\n",
    "<html lang=\"en\">\n",
    "<head>\n",
    "    <meta charset=\"UTF-8\">\n",
    "    <meta name=\"viewport\" content=\"width=device-width, initial-scale=1.0\">\n",
    "    <title>jQuery Dynamic Update</title>\n",
    "    <script src=\"https://code.jquery.com/jquery-3.6.0.min.js\"></script>\n",
    "</head>\n",
    "<body>\n",
    "    <input type=\"text\" id=\"userInput\" placeholder=\"Enter text\">\n",
    "    <button id=\"updateBtn\">Update</button>\n",
    "    <p id=\"output\">This text will change</p>\n",
    "\n",
    "    <script>\n",
    "        $(document).ready(function () {\n",
    "            $(\"#updateBtn\").click(function () {\n",
    "                var inputText = $(\"#userInput\").val();\n",
    "                $(\"#output\").text(inputText);\n",
    "            });\n",
    "        });\n",
    "    </script>\n",
    "</body>\n",
    "</html>\n"
   ]
  },
  {
   "cell_type": "markdown",
   "metadata": {},
   "source": [
    "### Question 2"
   ]
  },
  {
   "cell_type": "code",
   "execution_count": null,
   "metadata": {
    "vscode": {
     "languageId": "java"
    }
   },
   "outputs": [],
   "source": [
    "<!DOCTYPE html>\n",
    "<html xmlns:th=\"http://www.thymeleaf.org\">\n",
    "<head>\n",
    "    <title>Student List</title>\n",
    "</head>\n",
    "<body>\n",
    "    <h2>Student Results</h2>\n",
    "    <table border=\"1\">\n",
    "        <tr>\n",
    "            <th>Name</th>\n",
    "            <th>Grade</th>\n",
    "            <th>Status</th>\n",
    "        </tr>\n",
    "        <tr th:each=\"student : ${students}\">\n",
    "            <td th:text=\"${student.name}\"></td>\n",
    "            <td th:text=\"${student.grade}\"></td>\n",
    "            <td th:text=\"${student.status ? 'Passed' : 'Failed'}\"></td>\n",
    "        </tr>\n",
    "    </table>\n",
    "</body>\n",
    "</html>\n"
   ]
  },
  {
   "cell_type": "markdown",
   "metadata": {},
   "source": [
    "### Bonus Question: Why is Thymeleaf better than creating a regular table? What are any potential pros and cons of Thymeleaf tables?\n"
   ]
  },
  {
   "cell_type": "markdown",
   "metadata": {},
   "source": [
    "### Pros \n",
    "- Dynamic data binding \n",
    "    - Thymeleaf automatically pulls data from backend\n",
    "- Separation of concerns \n",
    "    - Keeps HTML and business logic seperate (easier to read) \n",
    "- Template reusability \n",
    "    - Same Thymeleaf template can be used across different controllers \n",
    "\n",
    "### Cons \n",
    "- Requires a backend \n",
    "    - Different from static tables as it needs a backend server \n",
    "- Performance overhead\n",
    "    - Rendering Thymeleaf templates on the server side can be slower than using client-side JavaScript for UIs \n",
    "- Limited frontned interactivity \n",
    "    - Thymeleaf does not provide dynamic sorting, searching, or filtering without JS"
   ]
  }
 ],
 "metadata": {
  "kernelspec": {
   "display_name": "Python 3 (ipykernel)",
   "language": "python",
   "name": "python3"
  },
  "language_info": {
   "codemirror_mode": {
    "name": "ipython",
    "version": 3
   },
   "file_extension": ".py",
   "mimetype": "text/x-python",
   "name": "python",
   "nbconvert_exporter": "python",
   "pygments_lexer": "ipython3",
   "version": "3.11.9"
  }
 },
 "nbformat": 4,
 "nbformat_minor": 4
}
