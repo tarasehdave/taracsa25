{
 "cells": [
  {
   "cell_type": "markdown",
   "metadata": {},
   "source": [
    "### 2D Arrays Part 2"
   ]
  },
  {
   "cell_type": "markdown",
   "metadata": {},
   "source": [
    "## Problem \n",
    "\n",
    "Farmer John has a rectangular grass pasture with N rows and M columns for the cows to graze on. Each pasture has a certain tastiness value. However, the gen alpha Bessie has gotten quite picky with what she eats.\n",
    "\n",
    "Given a 2D array (template below) with size NxM, please write functions for the following:\n",
    "\n",
    "1. getTotalGrass()\n",
    "Return total sum of all “tastiness values” from the pastures in the 2D array\n",
    "\n",
    "2. maxSquare()\n",
    "Because Bessie sometimes likes enjoying square grass patches, she wants to find the best one.\n",
    "Returns the maximum sum of tastiness value of a square in the 2D array. (Square could be 1x1, 2x2, 3x3, etc.)\n",
    "\n",
    "3. maxSubarraySum()\n",
    "Sometimes, Bessie enjoys eating grass in a line.\n",
    "Return the maximum sum of a continuous subarray in this array if it was “flattened” to be a 1D array. In other words, make the 2D array into a 1D array by combining all rows and find the max subarray sum.\n",
    "\n",
    "For an example case, see below in the code.\n",
    "\n"
   ]
  },
  {
   "cell_type": "code",
   "execution_count": null,
   "metadata": {
    "vscode": {
     "languageId": "java"
    }
   },
   "outputs": [],
   "source": [
    "def getTotalGrass(pasture):\n",
    "    return sum(sum(row) for row in pasture)\n",
    "\n",
    "def maxSquare(pasture):\n",
    "    N, M = len(pasture), len(pasture[0])\n",
    "    max_sum = float('-inf')\n",
    "    \n",
    "    for size in range(1, min(N, M) + 1):\n",
    "        for i in range(N - size + 1):\n",
    "            for j in range(M - size + 1):\n",
    "                square_sum = sum(pasture[x][y] for x in range(i, i + size) for y in range(j, j + size))\n",
    "                max_sum = max(max_sum, square_sum)\n",
    "    \n",
    "    return max_sum\n",
    "\n",
    "def maxSubarraySum(pasture):\n",
    "    flat_pasture = [val for row in pasture for val in row]\n",
    "    max_sum = float('-inf')\n",
    "    current_sum = 0\n",
    "    \n",
    "    for num in flat_pasture:\n",
    "        current_sum = max(num, current_sum + num)\n",
    "        max_sum = max(max_sum, current_sum)\n",
    "    \n",
    "    return max_sum\n",
    "\n",
    "# Example case\n",
    "pasture = [\n",
    "    [1, 2, -1],\n",
    "    [3, 4, -2],\n",
    "    [-5, 6, 7]\n",
    "]\n",
    "\n",
    "print(getTotalGrass(pasture))  # Output: Total sum of all elements\n",
    "print(maxSquare(pasture))      # Output: Maximum sum of any square in the 2D array\n",
    "print(maxSubarraySum(pasture)) # Output: Maximum sum of contiguous subarray in flattened 1D array\n"
   ]
  },
  {
   "cell_type": "markdown",
   "metadata": {},
   "source": [
    "## Extra Credit\n",
    "\n",
    "#### Extra Credit 1 (+0.01): What is the time complexity of your maxSquare code? Explain.\n",
    "\n",
    "\n",
    "#### Extra Credit 2 (+0.01): This is achieved if you get the optimal complexity for maxPatch.\n",
    "\n",
    "#### Extra Credit 3 (+0.01): What is the time complexity of your maxSubarraySum code? Explain.\n",
    "\n",
    "#### Extra Credit 4 (+0.01): This is achieved if you get the optimal complexity for maxSubarraySum."
   ]
  }
 ],
 "metadata": {
  "kernelspec": {
   "display_name": "Python 3 (ipykernel)",
   "language": "python",
   "name": "python3"
  },
  "language_info": {
   "codemirror_mode": {
    "name": "ipython",
    "version": 3
   },
   "file_extension": ".py",
   "mimetype": "text/x-python",
   "name": "python",
   "nbconvert_exporter": "python",
   "pygments_lexer": "ipython3",
   "version": "3.11.9"
  }
 },
 "nbformat": 4,
 "nbformat_minor": 4
}
